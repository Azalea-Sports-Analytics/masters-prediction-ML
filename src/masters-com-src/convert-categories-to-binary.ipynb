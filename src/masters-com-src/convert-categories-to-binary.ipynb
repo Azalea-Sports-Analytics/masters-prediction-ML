{
 "cells": [
  {
   "cell_type": "code",
   "execution_count": null,
   "metadata": {},
   "outputs": [],
   "source": [
    "import pandas as pd\n",
    "import json"
   ]
  },
  {
   "cell_type": "code",
   "execution_count": null,
   "metadata": {},
   "outputs": [],
   "source": [
    "\n",
    "\n",
    "def process_masters_invites(file_path):\n",
    "    # Load the JSON file\n",
    "    with open(file_path, 'r') as file:\n",
    "        data = json.load(file)\n",
    "\n",
    "    # Extract invitees data\n",
    "    invitees = pd.json_normalize(data[\"invitees\"])\n",
    "\n",
    "    # List of qualification headers\n",
    "    headers = [\n",
    "        \"qual_1\", \"qual_2\", \"qual_3\", \"qual_4\", \"qual_5\", \"qual_6\", \"qual_7_A\", \"qual_7_B\",\n",
    "        \"qual_8\", \"qual_9\", \"qual_10\", \"qual_11\", \"qual_12\", \"qual_13\", \"qual_14\", \"qual_15\",\n",
    "        \"qual_16\", \"qual_17\", \"qual_18\", \"qual_19\", \"qual_20\"\n",
    "    ]\n",
    "\n",
    "    # Initialize all qualification columns with 0\n",
    "    for header in headers:\n",
    "        invitees[header] = 0\n",
    "\n",
    "    # Function to set the appropriate qualification column to 1\n",
    "    def set_qualification(row):\n",
    "        qualifications = str(row['qualifications']).split(',')\n",
    "        for qual in qualifications:\n",
    "            qual_key = f\"qual_{qual.strip().replace('-', '_')}\"\n",
    "            if qual_key in headers:\n",
    "                row[qual_key] = 1\n",
    "        return row\n",
    "\n",
    "    # Apply the function to set qualifications\n",
    "    invitees = invitees.apply(set_qualification, axis=1)\n",
    "\n",
    "    # Rename columns for consistency\n",
    "    invitees.rename(columns={\"amatuer\": \"amateur\"}, inplace=True)\n",
    "\n",
    "    # Select and reorder columns for the final DataFrame\n",
    "    final_columns = [\"firstname\", \"lastname\", \"country\"] + headers + [\"amateur\", \"firstMasters\", \"augusta\"]\n",
    "    invitees_final = invitees[final_columns]\n",
    "\n",
    "    return invitees_final"
   ]
  },
  {
   "cell_type": "code",
   "execution_count": null,
   "metadata": {},
   "outputs": [],
   "source": [
    "file_path = \"/Users/sri/Documents/masters-prediction-ML/data/masters-com-data/invitees-2025.json\"\n",
    "processed_df = process_masters_invites(file_path)\n",
    "print(processed_df.head())"
   ]
  }
 ],
 "metadata": {
  "kernelspec": {
   "display_name": "3.10.10",
   "language": "python",
   "name": "python3"
  },
  "language_info": {
   "codemirror_mode": {
    "name": "ipython",
    "version": 3
   },
   "file_extension": ".py",
   "mimetype": "text/x-python",
   "name": "python",
   "nbconvert_exporter": "python",
   "pygments_lexer": "ipython3",
   "version": "3.10.10"
  }
 },
 "nbformat": 4,
 "nbformat_minor": 2
}
